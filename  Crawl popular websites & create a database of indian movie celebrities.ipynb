{
 "cells": [
  {
   "cell_type": "markdown",
   "metadata": {},
   "source": [
    "## Crawl popular websites & create a database of indian movie celebrities with their images and personality traits"
   ]
  },
  {
   "cell_type": "markdown",
   "metadata": {},
   "source": [
    "## Reading the web page into Python\n"
   ]
  },
  {
   "cell_type": "code",
   "execution_count": 4,
   "metadata": {},
   "outputs": [],
   "source": [
    "\n",
    "import re\n",
    "import csv\n",
    "import requests\n",
    "from bs4 import BeautifulSoup\n",
    "url=('https://www.imdb.com/list/ls068010962/')"
   ]
  },
  {
   "cell_type": "code",
   "execution_count": 5,
   "metadata": {},
   "outputs": [],
   "source": [
    "resp = requests.get(url)"
   ]
  },
  {
   "cell_type": "markdown",
   "metadata": {},
   "source": [
    "## Parsing the HTML using Beautiful Soup\n",
    "\n"
   ]
  },
  {
   "cell_type": "code",
   "execution_count": 6,
   "metadata": {},
   "outputs": [],
   "source": [
    "from bs4 import BeautifulSoup\n",
    "soup = BeautifulSoup(resp.text, 'html.parser')"
   ]
  },
  {
   "cell_type": "code",
   "execution_count": 7,
   "metadata": {},
   "outputs": [],
   "source": [
    "results = soup.find_all('div', attrs={'class':'lister-item-content'})"
   ]
  },
  {
   "cell_type": "code",
   "execution_count": 8,
   "metadata": {},
   "outputs": [
    {
     "data": {
      "text/plain": [
       "100"
      ]
     },
     "execution_count": 8,
     "metadata": {},
     "output_type": "execute_result"
    }
   ],
   "source": [
    "len(results)"
   ]
  },
  {
   "cell_type": "code",
   "execution_count": 9,
   "metadata": {},
   "outputs": [
    {
     "data": {
      "text/plain": [
       "[<div class=\"lister-item-content\">\n",
       " <h3 class=\"lister-item-header\">\n",
       " <span class=\"lister-item-index unbold text-primary\">1. </span>\n",
       " <a href=\"/name/nm0451148\"> Aamir Khan\n",
       " </a> </h3>\n",
       " <p class=\"text-muted text-small\">\n",
       "                         Actor <span class=\"ghost\">|</span>\n",
       " <a href=\"/title/tt0986264/\"> Taare Zameen Par\n",
       " </a> </p>\n",
       " <p>\n",
       "     Aamir is no doubt one of the most dedicated actors in this world. With his recent success in India and China markets combined he has got the title of World's Biggest Superstar. He went through rapid transformations in his body structure for his films to bring out the reality factor in his ...                </p>\n",
       " </div>, <div class=\"lister-item-content\">\n",
       " <h3 class=\"lister-item-header\">\n",
       " <span class=\"lister-item-index unbold text-primary\">2. </span>\n",
       " <a href=\"/name/nm0474774\"> Akshay Kumar\n",
       " </a> </h3>\n",
       " <p class=\"text-muted text-small\">\n",
       "                         Actor <span class=\"ghost\">|</span>\n",
       " <a href=\"/title/tt0242519/\"> Hera Pheri\n",
       " </a> </p>\n",
       " <p>\n",
       "     Akshay Kumar, born September 9, 1967, is an actor. He studied martial arts in Hong Kong. It was a student that suggested that he try modeling. Because of his success as model, he was offered films. Along with his good looks and excellent martial art skills, he was always the first choice to do ...                </p>\n",
       " </div>, <div class=\"lister-item-content\">\n",
       " <h3 class=\"lister-item-header\">\n",
       " <span class=\"lister-item-index unbold text-primary\">3. </span>\n",
       " <a href=\"/name/nm0222426\"> Ajay Devgn\n",
       " </a> </h3>\n",
       " <p class=\"text-muted text-small\">\n",
       "                         Actor <span class=\"ghost\">|</span>\n",
       " <a href=\"/title/tt3771536/\"> Shivaay\n",
       " </a> </p>\n",
       " <p>\n",
       "     Ajay Devgn is an Indian film actor, director, and producer. He made his film debut with Phool Aur Kaante in 1991 and received a Filmfare Award for Best Male Debut for his performance in the film. He then starred in films such as <a href=\"/title/tt0267617\">Jigar</a> (1992), <a href=\"/title/tt0337611\">Dilwale</a> (1994), <a href=\"/title/tt0111308\">Suhaag</a> (1994), <a href=\"/title/tt0113913\">Naajayaz</a> (1995), <a href=\"/title/tt0286593\">Diljale</a> ...                </p>\n",
       " </div>]"
      ]
     },
     "execution_count": 9,
     "metadata": {},
     "output_type": "execute_result"
    }
   ],
   "source": [
    "results[0:3]"
   ]
  },
  {
   "cell_type": "markdown",
   "metadata": {},
   "source": [
    "## Extracting the date\n",
    "\n"
   ]
  },
  {
   "cell_type": "code",
   "execution_count": 10,
   "metadata": {},
   "outputs": [
    {
     "data": {
      "text/plain": [
       "<div class=\"lister-item-content\">\n",
       "<h3 class=\"lister-item-header\">\n",
       "<span class=\"lister-item-index unbold text-primary\">1. </span>\n",
       "<a href=\"/name/nm0451148\"> Aamir Khan\n",
       "</a> </h3>\n",
       "<p class=\"text-muted text-small\">\n",
       "                        Actor <span class=\"ghost\">|</span>\n",
       "<a href=\"/title/tt0986264/\"> Taare Zameen Par\n",
       "</a> </p>\n",
       "<p>\n",
       "    Aamir is no doubt one of the most dedicated actors in this world. With his recent success in India and China markets combined he has got the title of World's Biggest Superstar. He went through rapid transformations in his body structure for his films to bring out the reality factor in his ...                </p>\n",
       "</div>"
      ]
     },
     "execution_count": 10,
     "metadata": {},
     "output_type": "execute_result"
    }
   ],
   "source": [
    "first_result = results[0]\n",
    "first_result"
   ]
  },
  {
   "cell_type": "code",
   "execution_count": 11,
   "metadata": {},
   "outputs": [
    {
     "data": {
      "text/plain": [
       "<a href=\"/name/nm0451148\"> Aamir Khan\n",
       "</a>"
      ]
     },
     "execution_count": 11,
     "metadata": {},
     "output_type": "execute_result"
    }
   ],
   "source": [
    "first_result.find('a')"
   ]
  },
  {
   "cell_type": "code",
   "execution_count": 12,
   "metadata": {},
   "outputs": [
    {
     "data": {
      "text/plain": [
       "' Aamir Khan\\n'"
      ]
     },
     "execution_count": 12,
     "metadata": {},
     "output_type": "execute_result"
    }
   ],
   "source": [
    "first_result.find('a').text"
   ]
  },
  {
   "cell_type": "code",
   "execution_count": 13,
   "metadata": {},
   "outputs": [
    {
     "data": {
      "text/plain": [
       "' Aamir Khan'"
      ]
     },
     "execution_count": 13,
     "metadata": {},
     "output_type": "execute_result"
    }
   ],
   "source": [
    "first_result.find('a').text[0:-1]"
   ]
  },
  {
   "cell_type": "markdown",
   "metadata": {},
   "source": [
    "## Extracting the lmage url\n"
   ]
  },
  {
   "cell_type": "code",
   "execution_count": 14,
   "metadata": {},
   "outputs": [],
   "source": [
    "result2=soup.find('img', {'src':re.compile('.jpg')})['src']"
   ]
  },
  {
   "cell_type": "markdown",
   "metadata": {},
   "source": [
    "## Extracting the Actor/actress"
   ]
  },
  {
   "cell_type": "code",
   "execution_count": 15,
   "metadata": {},
   "outputs": [],
   "source": [
    "#first_result.find('p',attrs={'class':'text-muted text-small',}).text.strip()[0:5]\n"
   ]
  },
  {
   "cell_type": "code",
   "execution_count": 16,
   "metadata": {},
   "outputs": [
    {
     "data": {
      "text/plain": [
       "'Actor  '"
      ]
     },
     "execution_count": 16,
     "metadata": {},
     "output_type": "execute_result"
    }
   ],
   "source": [
    "first_result.find('p').text[1:-1].strip()[0:7].replace(\"|\",\" \")"
   ]
  },
  {
   "cell_type": "code",
   "execution_count": 17,
   "metadata": {},
   "outputs": [
    {
     "data": {
      "text/plain": [
       "'Taare Zameen Par'"
      ]
     },
     "execution_count": 17,
     "metadata": {},
     "output_type": "execute_result"
    }
   ],
   "source": [
    "first_result.find('p').text[1:-1].strip()[9:]"
   ]
  },
  {
   "cell_type": "markdown",
   "metadata": {},
   "source": [
    "## Building the dataset\n",
    "\n",
    "Now that we've figured out how to extract the four components of `first_result`, we can **create a loop to repeat this process** on all 116 `results`. We'll store the output in a **list of tuples** called `records`:"
   ]
  },
  {
   "cell_type": "code",
   "execution_count": 18,
   "metadata": {},
   "outputs": [],
   "source": [
    "records = []\n",
    "for result in results:\n",
    "    Name = result.find('a').text[0:-1]\n",
    "    Image_url = soup.find('img', {'src':re.compile('.jpg')})['src']\n",
    "    celebrity =result.find('p').text[1:-1].strip()[0:7].replace(\"|\",\" \")\n",
    "    movie = result.find('p').text[1:-1].strip()[9:]\n",
    "    records.append((Name, Image_url, celebrity, movie))"
   ]
  },
  {
   "cell_type": "code",
   "execution_count": 19,
   "metadata": {},
   "outputs": [
    {
     "data": {
      "text/plain": [
       "100"
      ]
     },
     "execution_count": 19,
     "metadata": {},
     "output_type": "execute_result"
    }
   ],
   "source": [
    "len(records)"
   ]
  },
  {
   "cell_type": "code",
   "execution_count": 20,
   "metadata": {},
   "outputs": [
    {
     "data": {
      "text/plain": [
       "[(' Aamir Khan',\n",
       "  'https://m.media-amazon.com/images/M/MV5BMjAwMjk3NDUzN15BMl5BanBnXkFtZTcwNjI4MTY0NA@@._V1_UX140_CR0,0,140,209_AL_.jpg',\n",
       "  'Actor  ',\n",
       "  'Taare Zameen Par'),\n",
       " (' Akshay Kumar',\n",
       "  'https://m.media-amazon.com/images/M/MV5BMjAwMjk3NDUzN15BMl5BanBnXkFtZTcwNjI4MTY0NA@@._V1_UX140_CR0,0,140,209_AL_.jpg',\n",
       "  'Actor  ',\n",
       "  'Hera Pheri'),\n",
       " (' Ajay Devgn',\n",
       "  'https://m.media-amazon.com/images/M/MV5BMjAwMjk3NDUzN15BMl5BanBnXkFtZTcwNjI4MTY0NA@@._V1_UX140_CR0,0,140,209_AL_.jpg',\n",
       "  'Actor  ',\n",
       "  'Shivaay')]"
      ]
     },
     "execution_count": 20,
     "metadata": {},
     "output_type": "execute_result"
    }
   ],
   "source": [
    "records[0:3]"
   ]
  },
  {
   "cell_type": "markdown",
   "metadata": {},
   "source": [
    "## Applying a tabular data structure\n"
   ]
  },
  {
   "cell_type": "code",
   "execution_count": 23,
   "metadata": {},
   "outputs": [],
   "source": [
    "import pandas as pd\n",
    "df = pd.DataFrame(records, columns=[Name, Image_url, celebrity, movie])"
   ]
  },
  {
   "cell_type": "code",
   "execution_count": 24,
   "metadata": {},
   "outputs": [
    {
     "data": {
      "text/html": [
       "<div>\n",
       "<style scoped>\n",
       "    .dataframe tbody tr th:only-of-type {\n",
       "        vertical-align: middle;\n",
       "    }\n",
       "\n",
       "    .dataframe tbody tr th {\n",
       "        vertical-align: top;\n",
       "    }\n",
       "\n",
       "    .dataframe thead th {\n",
       "        text-align: right;\n",
       "    }\n",
       "</style>\n",
       "<table border=\"1\" class=\"dataframe\">\n",
       "  <thead>\n",
       "    <tr style=\"text-align: right;\">\n",
       "      <th></th>\n",
       "      <th>Navin Nischol</th>\n",
       "      <th>https://m.media-amazon.com/images/M/MV5BMjAwMjk3NDUzN15BMl5BanBnXkFtZTcwNjI4MTY0NA@@._V1_UX140_CR0,0,140,209_AL_.jpg</th>\n",
       "      <th>Actor</th>\n",
       "      <th>Zorro</th>\n",
       "    </tr>\n",
       "  </thead>\n",
       "  <tbody>\n",
       "    <tr>\n",
       "      <td>0</td>\n",
       "      <td>Aamir Khan</td>\n",
       "      <td>https://m.media-amazon.com/images/M/MV5BMjAwMj...</td>\n",
       "      <td>Actor</td>\n",
       "      <td>Taare Zameen Par</td>\n",
       "    </tr>\n",
       "    <tr>\n",
       "      <td>1</td>\n",
       "      <td>Akshay Kumar</td>\n",
       "      <td>https://m.media-amazon.com/images/M/MV5BMjAwMj...</td>\n",
       "      <td>Actor</td>\n",
       "      <td>Hera Pheri</td>\n",
       "    </tr>\n",
       "    <tr>\n",
       "      <td>2</td>\n",
       "      <td>Ajay Devgn</td>\n",
       "      <td>https://m.media-amazon.com/images/M/MV5BMjAwMj...</td>\n",
       "      <td>Actor</td>\n",
       "      <td>Shivaay</td>\n",
       "    </tr>\n",
       "    <tr>\n",
       "      <td>3</td>\n",
       "      <td>Amjad Khan</td>\n",
       "      <td>https://m.media-amazon.com/images/M/MV5BMjAwMj...</td>\n",
       "      <td>Actor</td>\n",
       "      <td>Sholay</td>\n",
       "    </tr>\n",
       "    <tr>\n",
       "      <td>4</td>\n",
       "      <td>Amitabh Bachchan</td>\n",
       "      <td>https://m.media-amazon.com/images/M/MV5BMjAwMj...</td>\n",
       "      <td>Actor</td>\n",
       "      <td>Black</td>\n",
       "    </tr>\n",
       "  </tbody>\n",
       "</table>\n",
       "</div>"
      ],
      "text/plain": [
       "       Navin Nischol  \\\n",
       "0         Aamir Khan   \n",
       "1       Akshay Kumar   \n",
       "2         Ajay Devgn   \n",
       "3         Amjad Khan   \n",
       "4   Amitabh Bachchan   \n",
       "\n",
       "  https://m.media-amazon.com/images/M/MV5BMjAwMjk3NDUzN15BMl5BanBnXkFtZTcwNjI4MTY0NA@@._V1_UX140_CR0,0,140,209_AL_.jpg  \\\n",
       "0  https://m.media-amazon.com/images/M/MV5BMjAwMj...                                                                     \n",
       "1  https://m.media-amazon.com/images/M/MV5BMjAwMj...                                                                     \n",
       "2  https://m.media-amazon.com/images/M/MV5BMjAwMj...                                                                     \n",
       "3  https://m.media-amazon.com/images/M/MV5BMjAwMj...                                                                     \n",
       "4  https://m.media-amazon.com/images/M/MV5BMjAwMj...                                                                     \n",
       "\n",
       "   Actor               Zorro  \n",
       "0  Actor    Taare Zameen Par  \n",
       "1  Actor          Hera Pheri  \n",
       "2  Actor             Shivaay  \n",
       "3  Actor              Sholay  \n",
       "4  Actor               Black  "
      ]
     },
     "execution_count": 24,
     "metadata": {},
     "output_type": "execute_result"
    }
   ],
   "source": [
    "df.head()"
   ]
  },
  {
   "cell_type": "code",
   "execution_count": 25,
   "metadata": {},
   "outputs": [
    {
     "data": {
      "text/plain": [
       " Navin Nischol                                                                                                                                                 Aamir Khan\n",
       "https://m.media-amazon.com/images/M/MV5BMjAwMjk3NDUzN15BMl5BanBnXkFtZTcwNjI4MTY0NA@@._V1_UX140_CR0,0,140,209_AL_.jpg    https://m.media-amazon.com/images/M/MV5BMjAwMj...\n",
       "Actor                                                                                                                                                             Actor  \n",
       "Zorro                                                                                                                                                    Taare Zameen Par\n",
       "Name: 0, dtype: object"
      ]
     },
     "execution_count": 25,
     "metadata": {},
     "output_type": "execute_result"
    }
   ],
   "source": [
    "df.loc[0]"
   ]
  },
  {
   "cell_type": "code",
   "execution_count": 26,
   "metadata": {},
   "outputs": [],
   "source": [
    "df=df.rename(columns={\" Navin Nischol\":\"Name\",\"https://m.media-amazon.com/images/M/MV5BMjAwMjk3NDUzN15BMl5BanBnXkFtZTcwNjI4MTY0NA@@._V1_UX140_CR0,0,140,209_AL_.jpg\":\"Image_url\",\"Zorro\":\"Movie Name\"})"
   ]
  },
  {
   "cell_type": "code",
   "execution_count": 27,
   "metadata": {},
   "outputs": [
    {
     "data": {
      "text/html": [
       "<div>\n",
       "<style scoped>\n",
       "    .dataframe tbody tr th:only-of-type {\n",
       "        vertical-align: middle;\n",
       "    }\n",
       "\n",
       "    .dataframe tbody tr th {\n",
       "        vertical-align: top;\n",
       "    }\n",
       "\n",
       "    .dataframe thead th {\n",
       "        text-align: right;\n",
       "    }\n",
       "</style>\n",
       "<table border=\"1\" class=\"dataframe\">\n",
       "  <thead>\n",
       "    <tr style=\"text-align: right;\">\n",
       "      <th></th>\n",
       "      <th>Name</th>\n",
       "      <th>Image_url</th>\n",
       "      <th>Actor</th>\n",
       "      <th>Movie Name</th>\n",
       "    </tr>\n",
       "  </thead>\n",
       "  <tbody>\n",
       "    <tr>\n",
       "      <td>0</td>\n",
       "      <td>Aamir Khan</td>\n",
       "      <td>https://m.media-amazon.com/images/M/MV5BMjAwMj...</td>\n",
       "      <td>Actor</td>\n",
       "      <td>Taare Zameen Par</td>\n",
       "    </tr>\n",
       "    <tr>\n",
       "      <td>1</td>\n",
       "      <td>Akshay Kumar</td>\n",
       "      <td>https://m.media-amazon.com/images/M/MV5BMjAwMj...</td>\n",
       "      <td>Actor</td>\n",
       "      <td>Hera Pheri</td>\n",
       "    </tr>\n",
       "    <tr>\n",
       "      <td>2</td>\n",
       "      <td>Ajay Devgn</td>\n",
       "      <td>https://m.media-amazon.com/images/M/MV5BMjAwMj...</td>\n",
       "      <td>Actor</td>\n",
       "      <td>Shivaay</td>\n",
       "    </tr>\n",
       "    <tr>\n",
       "      <td>3</td>\n",
       "      <td>Amjad Khan</td>\n",
       "      <td>https://m.media-amazon.com/images/M/MV5BMjAwMj...</td>\n",
       "      <td>Actor</td>\n",
       "      <td>Sholay</td>\n",
       "    </tr>\n",
       "    <tr>\n",
       "      <td>4</td>\n",
       "      <td>Amitabh Bachchan</td>\n",
       "      <td>https://m.media-amazon.com/images/M/MV5BMjAwMj...</td>\n",
       "      <td>Actor</td>\n",
       "      <td>Black</td>\n",
       "    </tr>\n",
       "  </tbody>\n",
       "</table>\n",
       "</div>"
      ],
      "text/plain": [
       "                Name                                          Image_url  \\\n",
       "0         Aamir Khan  https://m.media-amazon.com/images/M/MV5BMjAwMj...   \n",
       "1       Akshay Kumar  https://m.media-amazon.com/images/M/MV5BMjAwMj...   \n",
       "2         Ajay Devgn  https://m.media-amazon.com/images/M/MV5BMjAwMj...   \n",
       "3         Amjad Khan  https://m.media-amazon.com/images/M/MV5BMjAwMj...   \n",
       "4   Amitabh Bachchan  https://m.media-amazon.com/images/M/MV5BMjAwMj...   \n",
       "\n",
       "   Actor          Movie Name  \n",
       "0  Actor    Taare Zameen Par  \n",
       "1  Actor          Hera Pheri  \n",
       "2  Actor             Shivaay  \n",
       "3  Actor              Sholay  \n",
       "4  Actor               Black  "
      ]
     },
     "execution_count": 27,
     "metadata": {},
     "output_type": "execute_result"
    }
   ],
   "source": [
    "df.head()"
   ]
  },
  {
   "cell_type": "code",
   "execution_count": 28,
   "metadata": {},
   "outputs": [
    {
     "data": {
      "text/html": [
       "<div>\n",
       "<style scoped>\n",
       "    .dataframe tbody tr th:only-of-type {\n",
       "        vertical-align: middle;\n",
       "    }\n",
       "\n",
       "    .dataframe tbody tr th {\n",
       "        vertical-align: top;\n",
       "    }\n",
       "\n",
       "    .dataframe thead th {\n",
       "        text-align: right;\n",
       "    }\n",
       "</style>\n",
       "<table border=\"1\" class=\"dataframe\">\n",
       "  <thead>\n",
       "    <tr style=\"text-align: right;\">\n",
       "      <th></th>\n",
       "      <th>Name</th>\n",
       "      <th>Image_url</th>\n",
       "      <th>Actor</th>\n",
       "      <th>Movie Name</th>\n",
       "    </tr>\n",
       "  </thead>\n",
       "  <tbody>\n",
       "    <tr>\n",
       "      <td>95</td>\n",
       "      <td>Nargis</td>\n",
       "      <td>https://m.media-amazon.com/images/M/MV5BMjAwMj...</td>\n",
       "      <td>Actress</td>\n",
       "      <td>\\n Raat Aur Din</td>\n",
       "    </tr>\n",
       "    <tr>\n",
       "      <td>96</td>\n",
       "      <td>Nirupa Roy</td>\n",
       "      <td>https://m.media-amazon.com/images/M/MV5BMjAwMj...</td>\n",
       "      <td>Actress</td>\n",
       "      <td>\\n Chhaya</td>\n",
       "    </tr>\n",
       "    <tr>\n",
       "      <td>97</td>\n",
       "      <td>Nutan</td>\n",
       "      <td>https://m.media-amazon.com/images/M/MV5BMjAwMj...</td>\n",
       "      <td>Actress</td>\n",
       "      <td>\\n Seema</td>\n",
       "    </tr>\n",
       "    <tr>\n",
       "      <td>98</td>\n",
       "      <td>Neeraj Kabi</td>\n",
       "      <td>https://m.media-amazon.com/images/M/MV5BMjAwMj...</td>\n",
       "      <td>Actor</td>\n",
       "      <td>Ship of Theseus</td>\n",
       "    </tr>\n",
       "    <tr>\n",
       "      <td>99</td>\n",
       "      <td>Navin Nischol</td>\n",
       "      <td>https://m.media-amazon.com/images/M/MV5BMjAwMj...</td>\n",
       "      <td>Actor</td>\n",
       "      <td>Zorro</td>\n",
       "    </tr>\n",
       "  </tbody>\n",
       "</table>\n",
       "</div>"
      ],
      "text/plain": [
       "              Name                                          Image_url  \\\n",
       "95          Nargis  https://m.media-amazon.com/images/M/MV5BMjAwMj...   \n",
       "96      Nirupa Roy  https://m.media-amazon.com/images/M/MV5BMjAwMj...   \n",
       "97           Nutan  https://m.media-amazon.com/images/M/MV5BMjAwMj...   \n",
       "98     Neeraj Kabi  https://m.media-amazon.com/images/M/MV5BMjAwMj...   \n",
       "99   Navin Nischol  https://m.media-amazon.com/images/M/MV5BMjAwMj...   \n",
       "\n",
       "    Actor         Movie Name  \n",
       "95  Actress  \\n Raat Aur Din  \n",
       "96  Actress        \\n Chhaya  \n",
       "97  Actress         \\n Seema  \n",
       "98  Actor    Ship of Theseus  \n",
       "99  Actor              Zorro  "
      ]
     },
     "execution_count": 28,
     "metadata": {},
     "output_type": "execute_result"
    }
   ],
   "source": [
    "df.tail()"
   ]
  },
  {
   "cell_type": "markdown",
   "metadata": {},
   "source": [
    "## Exporting the dataset to a CSV file\n"
   ]
  },
  {
   "cell_type": "code",
   "execution_count": 29,
   "metadata": {},
   "outputs": [],
   "source": [
    "df.to_csv('FinalOutput.csv', index=False, encoding='utf-8')"
   ]
  },
  {
   "cell_type": "code",
   "execution_count": 30,
   "metadata": {},
   "outputs": [
    {
     "data": {
      "text/html": [
       "<div>\n",
       "<style scoped>\n",
       "    .dataframe tbody tr th:only-of-type {\n",
       "        vertical-align: middle;\n",
       "    }\n",
       "\n",
       "    .dataframe tbody tr th {\n",
       "        vertical-align: top;\n",
       "    }\n",
       "\n",
       "    .dataframe thead th {\n",
       "        text-align: right;\n",
       "    }\n",
       "</style>\n",
       "<table border=\"1\" class=\"dataframe\">\n",
       "  <thead>\n",
       "    <tr style=\"text-align: right;\">\n",
       "      <th></th>\n",
       "      <th>Name</th>\n",
       "      <th>Image_url</th>\n",
       "      <th>Actor</th>\n",
       "      <th>Movie Name</th>\n",
       "    </tr>\n",
       "  </thead>\n",
       "  <tbody>\n",
       "    <tr>\n",
       "      <td>0</td>\n",
       "      <td>Aamir Khan</td>\n",
       "      <td>https://m.media-amazon.com/images/M/MV5BMjAwMj...</td>\n",
       "      <td>Actor</td>\n",
       "      <td>Taare Zameen Par</td>\n",
       "    </tr>\n",
       "    <tr>\n",
       "      <td>1</td>\n",
       "      <td>Akshay Kumar</td>\n",
       "      <td>https://m.media-amazon.com/images/M/MV5BMjAwMj...</td>\n",
       "      <td>Actor</td>\n",
       "      <td>Hera Pheri</td>\n",
       "    </tr>\n",
       "    <tr>\n",
       "      <td>2</td>\n",
       "      <td>Ajay Devgn</td>\n",
       "      <td>https://m.media-amazon.com/images/M/MV5BMjAwMj...</td>\n",
       "      <td>Actor</td>\n",
       "      <td>Shivaay</td>\n",
       "    </tr>\n",
       "    <tr>\n",
       "      <td>3</td>\n",
       "      <td>Amjad Khan</td>\n",
       "      <td>https://m.media-amazon.com/images/M/MV5BMjAwMj...</td>\n",
       "      <td>Actor</td>\n",
       "      <td>Sholay</td>\n",
       "    </tr>\n",
       "    <tr>\n",
       "      <td>4</td>\n",
       "      <td>Amitabh Bachchan</td>\n",
       "      <td>https://m.media-amazon.com/images/M/MV5BMjAwMj...</td>\n",
       "      <td>Actor</td>\n",
       "      <td>Black</td>\n",
       "    </tr>\n",
       "  </tbody>\n",
       "</table>\n",
       "</div>"
      ],
      "text/plain": [
       "                Name                                          Image_url  \\\n",
       "0         Aamir Khan  https://m.media-amazon.com/images/M/MV5BMjAwMj...   \n",
       "1       Akshay Kumar  https://m.media-amazon.com/images/M/MV5BMjAwMj...   \n",
       "2         Ajay Devgn  https://m.media-amazon.com/images/M/MV5BMjAwMj...   \n",
       "3         Amjad Khan  https://m.media-amazon.com/images/M/MV5BMjAwMj...   \n",
       "4   Amitabh Bachchan  https://m.media-amazon.com/images/M/MV5BMjAwMj...   \n",
       "\n",
       "   Actor          Movie Name  \n",
       "0  Actor    Taare Zameen Par  \n",
       "1  Actor          Hera Pheri  \n",
       "2  Actor             Shivaay  \n",
       "3  Actor              Sholay  \n",
       "4  Actor               Black  "
      ]
     },
     "execution_count": 30,
     "metadata": {},
     "output_type": "execute_result"
    }
   ],
   "source": [
    "df = pd.read_csv('FinalOutput.csv')\n",
    "df.head()"
   ]
  },
  {
   "cell_type": "code",
   "execution_count": null,
   "metadata": {},
   "outputs": [],
   "source": []
  }
 ],
 "metadata": {
  "kernelspec": {
   "display_name": "Python 3",
   "language": "python",
   "name": "python3"
  },
  "language_info": {
   "codemirror_mode": {
    "name": "ipython",
    "version": 3
   },
   "file_extension": ".py",
   "mimetype": "text/x-python",
   "name": "python",
   "nbconvert_exporter": "python",
   "pygments_lexer": "ipython3",
   "version": "3.7.4"
  }
 },
 "nbformat": 4,
 "nbformat_minor": 1
}
